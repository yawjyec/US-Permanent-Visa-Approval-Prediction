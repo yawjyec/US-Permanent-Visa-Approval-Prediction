{
 "cells": [
  {
   "cell_type": "code",
   "execution_count": 2,
   "metadata": {},
   "outputs": [],
   "source": [
    "import psycopg2 as pg\n",
    "from psycopg2.extensions import ISOLATION_LEVEL_AUTOCOMMIT\n",
    "from sqlalchemy import create_engine\n",
    "import pandas as pd\n",
    "import numpy as np"
   ]
  },
  {
   "cell_type": "code",
   "execution_count": 3,
   "metadata": {},
   "outputs": [],
   "source": [
    "# Import cleaned US Permanent Visa Data and World Literacy Data\n",
    "visa_df = pd.read_csv('us_perm_visas_cleaned.csv')\n",
    "literacy_df = pd.read_csv('world_literacy_rates_cleaned.csv')"
   ]
  },
  {
   "cell_type": "code",
   "execution_count": 2,
   "metadata": {},
   "outputs": [],
   "source": [
    "params = {\n",
    "    'host': '3.130.17.136',\n",
    "    'user': 'ubuntu',\n",
    "    'port': 5432\n",
    "}\n",
    "\n",
    "# Connect and create database, disconnect, and reconnect to the right database\n",
    "connection = pg.connect(**params)\n",
    "connection.set_isolation_level(ISOLATION_LEVEL_AUTOCOMMIT)\n",
    "connection.cursor().execute('CREATE DATABASE project3;')\n",
    "connection.close()"
   ]
  },
  {
   "cell_type": "code",
   "execution_count": 5,
   "metadata": {},
   "outputs": [],
   "source": [
    "connection = pg.connect(**params, dbname='project3')"
   ]
  },
  {
   "cell_type": "code",
   "execution_count": 6,
   "metadata": {},
   "outputs": [],
   "source": [
    "cursor = connection.cursor()"
   ]
  },
  {
   "cell_type": "code",
   "execution_count": 11,
   "metadata": {},
   "outputs": [],
   "source": [
    "cursor.execute(\"rollback;\")"
   ]
  },
  {
   "cell_type": "code",
   "execution_count": 14,
   "metadata": {},
   "outputs": [],
   "source": [
    "# Create US Permanent Visa Table on my AWS server\n",
    "cre_tab_uspermvisas = \"\"\"\n",
    "CREATE TABLE us_perm_visa (\n",
    "    index                     int,\n",
    "    case_status               varchar,\n",
    "    class_of_admission        varchar,\n",
    "    country_of_citizenship    varchar,\n",
    "    decision_date             date,\n",
    "    work_city                 varchar,\n",
    "    job_state                 varchar,\n",
    "    job_title                 varchar,\n",
    "    job_level                 varchar, \n",
    "    wage_period               varchar,\n",
    "    education                 varchar,\n",
    "    wage                      numeric,\n",
    "    scaled_wage               numeric,\n",
    "    job_category              varchar);\n",
    "\n",
    "COPY us_perm_visa\n",
    "FROM '/home/ubuntu/us_perm_visas_cleaned.csv'\n",
    "DELIMITER ','\n",
    "CSV HEADER;\n",
    "\"\"\"\n",
    "cursor.execute(cre_tab_uspermvisas)"
   ]
  },
  {
   "cell_type": "code",
   "execution_count": 17,
   "metadata": {},
   "outputs": [],
   "source": [
    "# Create US Permanent Visa Table on my AWS server\n",
    "cre_tab_literacy = \"\"\"\n",
    "CREATE TABLE world_literacy (\n",
    "    index             int,\n",
    "    Entity            varchar,\n",
    "    Year              varchar,\n",
    "    literacy_rates    numeric);\n",
    "\n",
    "COPY world_literacy\n",
    "FROM '/home/ubuntu/world_literacy_rates_cleaned.csv'\n",
    "DELIMITER ','\n",
    "CSV HEADER;\n",
    "\"\"\"\n",
    "\n",
    "cursor.execute(cre_tab_literacy)"
   ]
  },
  {
   "cell_type": "code",
   "execution_count": null,
   "metadata": {},
   "outputs": [],
   "source": []
  }
 ],
 "metadata": {
  "kernelspec": {
   "display_name": "Python [conda env:metis]",
   "language": "python",
   "name": "conda-env-metis-py"
  },
  "language_info": {
   "codemirror_mode": {
    "name": "ipython",
    "version": 3
   },
   "file_extension": ".py",
   "mimetype": "text/x-python",
   "name": "python",
   "nbconvert_exporter": "python",
   "pygments_lexer": "ipython3",
   "version": "3.6.8"
  }
 },
 "nbformat": 4,
 "nbformat_minor": 2
}
