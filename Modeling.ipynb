{
 "cells": [
  {
   "cell_type": "code",
   "execution_count": 1,
   "metadata": {},
   "outputs": [
    {
     "name": "stderr",
     "output_type": "stream",
     "text": [
      "Using TensorFlow backend.\n"
     ]
    }
   ],
   "source": [
    "import pandas as pd\n",
    "import numpy as np\n",
    "import psycopg2 as pg\n",
    "#import sqlite3\n",
    "import matplotlib.pyplot as plt\n",
    "import seaborn as sns\n",
    "from collections import Counter\n",
    "%matplotlib inline\n",
    "\n",
    "from sklearn.model_selection import train_test_split, learning_curve, cross_val_score\n",
    "from sklearn.model_selection import cross_validate, GridSearchCV, StratifiedKFold\n",
    "from sklearn.metrics import accuracy_score, log_loss, roc_auc_score, precision_score, recall_score\n",
    "from sklearn.metrics import  roc_curve, f1_score, auc, precision_recall_curve\n",
    "from sklearn.linear_model import LogisticRegression, LogisticRegressionCV\n",
    "from sklearn.naive_bayes import BernoulliNB\n",
    "from sklearn.ensemble import RandomForestClassifier, GradientBoostingRegressor\n",
    "from sklearn.metrics import confusion_matrix, make_scorer\n",
    "from sklearn.neighbors import KNeighborsClassifier\n",
    "from sklearn.svm import SVC\n",
    "from sklearn.preprocessing import StandardScaler\n",
    "from imblearn.under_sampling import RandomUnderSampler\n",
    "from imblearn.over_sampling import RandomOverSampler, SMOTE, ADASYN\n",
    "from ipywidgets import interactive, FloatSlider\n",
    "import pickle\n",
    "\n",
    "import warnings\n",
    "warnings.filterwarnings('ignore')\n",
    "np.set_printoptions(suppress=True)"
   ]
  },
  {
   "cell_type": "markdown",
   "metadata": {},
   "source": [
    "### Query Data from Postgresql"
   ]
  },
  {
   "cell_type": "code",
   "execution_count": 2,
   "metadata": {},
   "outputs": [],
   "source": [
    "# Connect to my AWS server\n",
    "params = {\n",
    "    'host': '3.130.17.136',\n",
    "    'user': 'ubuntu',\n",
    "    'port': 5432\n",
    "}\n",
    "connection = pg.connect(**params, dbname='project3')\n",
    "cursor = connection.cursor()"
   ]
  },
  {
   "cell_type": "code",
   "execution_count": 3,
   "metadata": {},
   "outputs": [],
   "source": [
    "# Query world literacy data using Postgresql\n",
    "literacy_df = pd.read_sql(\"\"\"\n",
    "\n",
    "WITH latest_info AS(\n",
    "SELECT entity, MAX(year) AS latest_year\n",
    "FROM world_literacy\n",
    "GROUP BY entity)\n",
    "\n",
    "SELECT world_literacy.entity, world_literacy.literacy_rates FROM latest_info\n",
    "INNER JOIN world_literacy\n",
    "ON latest_info.latest_year = world_literacy.year \n",
    "AND latest_info.entity = world_literacy.entity\n",
    "ORDER BY latest_info.entity\n",
    "\n",
    "\"\"\", connection)"
   ]
  },
  {
   "cell_type": "code",
   "execution_count": 4,
   "metadata": {
    "scrolled": true
   },
   "outputs": [],
   "source": [
    "# Change the string of contries' name to upper case\n",
    "literacy_df['entity'] = literacy_df['entity'].str.upper()"
   ]
  },
  {
   "cell_type": "code",
   "execution_count": 5,
   "metadata": {},
   "outputs": [],
   "source": [
    "# Query US Visa Application data using Postgresql. Also import the 5 percentile, median and 95 percentile of wage\n",
    "visa_df = pd.read_sql(\"\"\"\n",
    "SELECT us_perm_visa.*, p5_job_category_wage, p50_job_category_wage, p85_job_category_wage\n",
    "FROM us_perm_visa JOIN\n",
    "     (SELECT job_category,\n",
    "             PERCENTILE_CONT(0.05) WITHIN GROUP (ORDER BY scaled_wage) as p5_job_category_wage,\n",
    "             PERCENTILE_CONT(0.50) WITHIN GROUP (ORDER BY scaled_wage) as p50_job_category_wage,\n",
    "             PERCENTILE_CONT(0.85) WITHIN GROUP (ORDER BY scaled_wage) as p85_job_category_wage\n",
    "      from us_perm_visa\n",
    "      GROUP BY job_category\n",
    "     ) que_tab\n",
    "     ON us_perm_visa.job_category = que_tab.job_category\n",
    "\"\"\", connection).drop(columns=['index'])"
   ]
  },
  {
   "cell_type": "markdown",
   "metadata": {},
   "source": [
    "### Feature Engineering & Data Preparation for Modeling"
   ]
  },
  {
   "cell_type": "code",
   "execution_count": 6,
   "metadata": {},
   "outputs": [],
   "source": [
    "# These are the engineered features to improve the predication score of models\n",
    "lo_weight = 1\n",
    "visa_df['wage_lower_deviation'] = visa_df.apply(lambda x: ((x.scaled_wage-x.p5_job_category_wage)\n",
    "                                                           /x.p5_job_category_wage) * lo_weight, axis=1)\n",
    "up_weight = 1\n",
    "visa_df['wage_upper_deviation'] = visa_df.apply(lambda x: ((x.p85_job_category_wage-x.scaled_wage)\n",
    "                                                           /x.p85_job_category_wage) * up_weight, axis=1)\n",
    "visa_df['wage_in_range_value'] = visa_df.apply(lambda x: min(x.wage_lower_deviation,x.wage_upper_deviation), axis=1)\n",
    "visa_df['category_wage_ratio'] = visa_df.apply(lambda x: ((x.scaled_wage-x.p50_job_category_wage)\n",
    "                                                          /x.p50_job_category_wage), axis=1)"
   ]
  },
  {
   "cell_type": "code",
   "execution_count": 7,
   "metadata": {},
   "outputs": [],
   "source": [
    "# Combined both US Visa Application data and world literacy data\n",
    "visa_df = pd.merge(visa_df, literacy_df, left_on = ['country_of_citizenship'],\n",
    "                   right_on = ['entity']).drop(columns=['entity'])"
   ]
  },
  {
   "cell_type": "code",
   "execution_count": 8,
   "metadata": {},
   "outputs": [],
   "source": [
    "# Filtered out 'Certified-Expired' and 'Withdrewn' data\n",
    "visa_df = visa_df[(visa_df['case_status']=='Certified') | (visa_df['case_status']=='Denied')]"
   ]
  },
  {
   "cell_type": "code",
   "execution_count": 9,
   "metadata": {},
   "outputs": [],
   "source": [
    "# Export data to be used for data visualization\n",
    "visa_df.to_csv('project3_final_modeling_data.csv')"
   ]
  },
  {
   "cell_type": "code",
   "execution_count": 10,
   "metadata": {},
   "outputs": [],
   "source": [
    "# Convert the classes to 1 and 0 for further modeling\n",
    "visa_df['case_status'] = visa_df.case_status.transform(lambda x: 1 if x=='Certified' else 0)"
   ]
  },
  {
   "cell_type": "code",
   "execution_count": 11,
   "metadata": {},
   "outputs": [],
   "source": [
    "# Create dummies for all categorical features\n",
    "visa_df = pd.get_dummies(visa_df, columns=['job_category', 'job_level','wage_period','class_of_admission','education'])"
   ]
  },
  {
   "cell_type": "code",
   "execution_count": 12,
   "metadata": {},
   "outputs": [],
   "source": [
    "# Drop features which will not be used for modeling\n",
    "visa_df = visa_df.drop(columns=(['education_Other','country_of_citizenship','decision_date','work_city',\n",
    "                                 'job_state','job_title','job_category_Unknown','wage','job_level_Level II',\n",
    "                                 'wage_period_Bi-Weekly','p5_job_category_wage','p50_job_category_wage',\n",
    "                                 'p85_job_category_wage','wage_lower_deviation','wage_upper_deviation',\n",
    "                                 'wage_in_range_value']))\n",
    "#visa_df = visa_df.drop(columns=(['education_Other','country_of_citizenship','decision_date','work_city',\n",
    "#                                 'job_state','job_title','job_category_Unknown','wage','job_level_Level II',\n",
    "#                                 'wage_period_Bi-Weekly','p5_job_category_wage','p50_job_category_wage',\n",
    "#                                 'p85_job_category_wage','wage_lower_deviation','wage_upper_deviation',\n",
    "#                                 'category_wage_ratio']))\n",
    "#visa_df = visa_df.drop(columns=(['education_Other','country_of_citizenship','decision_date','work_city',\n",
    "#                                 'job_state','job_title','job_category_Unknown','wage','job_level_Level II',\n",
    "#                                 'wage_period_Bi-Weekly','p5_job_category_wage','p50_job_category_wage',\n",
    "#                                 'p85_job_category_wage','wage_in_range_value','category_wage_ratio']))"
   ]
  },
  {
   "cell_type": "code",
   "execution_count": 13,
   "metadata": {},
   "outputs": [
    {
     "data": {
      "text/html": [
       "<div>\n",
       "<style scoped>\n",
       "    .dataframe tbody tr th:only-of-type {\n",
       "        vertical-align: middle;\n",
       "    }\n",
       "\n",
       "    .dataframe tbody tr th {\n",
       "        vertical-align: top;\n",
       "    }\n",
       "\n",
       "    .dataframe thead th {\n",
       "        text-align: right;\n",
       "    }\n",
       "</style>\n",
       "<table border=\"1\" class=\"dataframe\">\n",
       "  <thead>\n",
       "    <tr style=\"text-align: right;\">\n",
       "      <th></th>\n",
       "      <th>case_status</th>\n",
       "      <th>scaled_wage</th>\n",
       "      <th>category_wage_ratio</th>\n",
       "      <th>literacy_rates</th>\n",
       "      <th>job_category_Education</th>\n",
       "      <th>job_category_Food Preparation</th>\n",
       "      <th>job_category_Management</th>\n",
       "      <th>job_category_Non-STEM Professional</th>\n",
       "      <th>job_category_STEM</th>\n",
       "      <th>job_category_Sales</th>\n",
       "      <th>...</th>\n",
       "      <th>class_of_admission_TPS</th>\n",
       "      <th>class_of_admission_V-2</th>\n",
       "      <th>class_of_admission_VWB</th>\n",
       "      <th>class_of_admission_VWT</th>\n",
       "      <th>education_Associate's</th>\n",
       "      <th>education_Bachelor's</th>\n",
       "      <th>education_Doctorate</th>\n",
       "      <th>education_High School</th>\n",
       "      <th>education_Master's</th>\n",
       "      <th>education_None</th>\n",
       "    </tr>\n",
       "  </thead>\n",
       "  <tbody>\n",
       "    <tr>\n",
       "      <th>0</th>\n",
       "      <td>1</td>\n",
       "      <td>92500.0</td>\n",
       "      <td>-0.092634</td>\n",
       "      <td>72.225304</td>\n",
       "      <td>0</td>\n",
       "      <td>0</td>\n",
       "      <td>0</td>\n",
       "      <td>0</td>\n",
       "      <td>1</td>\n",
       "      <td>0</td>\n",
       "      <td>...</td>\n",
       "      <td>0</td>\n",
       "      <td>0</td>\n",
       "      <td>0</td>\n",
       "      <td>0</td>\n",
       "      <td>0</td>\n",
       "      <td>1</td>\n",
       "      <td>0</td>\n",
       "      <td>0</td>\n",
       "      <td>0</td>\n",
       "      <td>0</td>\n",
       "    </tr>\n",
       "    <tr>\n",
       "      <th>3</th>\n",
       "      <td>1</td>\n",
       "      <td>99424.0</td>\n",
       "      <td>-0.024714</td>\n",
       "      <td>72.225304</td>\n",
       "      <td>0</td>\n",
       "      <td>0</td>\n",
       "      <td>0</td>\n",
       "      <td>0</td>\n",
       "      <td>1</td>\n",
       "      <td>0</td>\n",
       "      <td>...</td>\n",
       "      <td>0</td>\n",
       "      <td>0</td>\n",
       "      <td>0</td>\n",
       "      <td>0</td>\n",
       "      <td>0</td>\n",
       "      <td>1</td>\n",
       "      <td>0</td>\n",
       "      <td>0</td>\n",
       "      <td>0</td>\n",
       "      <td>0</td>\n",
       "    </tr>\n",
       "    <tr>\n",
       "      <th>4</th>\n",
       "      <td>1</td>\n",
       "      <td>69600.0</td>\n",
       "      <td>-0.317268</td>\n",
       "      <td>72.225304</td>\n",
       "      <td>0</td>\n",
       "      <td>0</td>\n",
       "      <td>0</td>\n",
       "      <td>0</td>\n",
       "      <td>1</td>\n",
       "      <td>0</td>\n",
       "      <td>...</td>\n",
       "      <td>0</td>\n",
       "      <td>0</td>\n",
       "      <td>0</td>\n",
       "      <td>0</td>\n",
       "      <td>0</td>\n",
       "      <td>0</td>\n",
       "      <td>0</td>\n",
       "      <td>0</td>\n",
       "      <td>1</td>\n",
       "      <td>0</td>\n",
       "    </tr>\n",
       "    <tr>\n",
       "      <th>5</th>\n",
       "      <td>1</td>\n",
       "      <td>136829.0</td>\n",
       "      <td>0.342206</td>\n",
       "      <td>72.225304</td>\n",
       "      <td>0</td>\n",
       "      <td>0</td>\n",
       "      <td>0</td>\n",
       "      <td>0</td>\n",
       "      <td>1</td>\n",
       "      <td>0</td>\n",
       "      <td>...</td>\n",
       "      <td>0</td>\n",
       "      <td>0</td>\n",
       "      <td>0</td>\n",
       "      <td>0</td>\n",
       "      <td>0</td>\n",
       "      <td>0</td>\n",
       "      <td>0</td>\n",
       "      <td>0</td>\n",
       "      <td>1</td>\n",
       "      <td>0</td>\n",
       "    </tr>\n",
       "    <tr>\n",
       "      <th>8</th>\n",
       "      <td>1</td>\n",
       "      <td>90813.0</td>\n",
       "      <td>-0.109182</td>\n",
       "      <td>72.225304</td>\n",
       "      <td>0</td>\n",
       "      <td>0</td>\n",
       "      <td>0</td>\n",
       "      <td>0</td>\n",
       "      <td>1</td>\n",
       "      <td>0</td>\n",
       "      <td>...</td>\n",
       "      <td>0</td>\n",
       "      <td>0</td>\n",
       "      <td>0</td>\n",
       "      <td>0</td>\n",
       "      <td>0</td>\n",
       "      <td>0</td>\n",
       "      <td>0</td>\n",
       "      <td>0</td>\n",
       "      <td>1</td>\n",
       "      <td>0</td>\n",
       "    </tr>\n",
       "  </tbody>\n",
       "</table>\n",
       "<p>5 rows × 73 columns</p>\n",
       "</div>"
      ],
      "text/plain": [
       "   case_status  scaled_wage  category_wage_ratio  literacy_rates  \\\n",
       "0            1      92500.0            -0.092634       72.225304   \n",
       "3            1      99424.0            -0.024714       72.225304   \n",
       "4            1      69600.0            -0.317268       72.225304   \n",
       "5            1     136829.0             0.342206       72.225304   \n",
       "8            1      90813.0            -0.109182       72.225304   \n",
       "\n",
       "   job_category_Education  job_category_Food Preparation  \\\n",
       "0                       0                              0   \n",
       "3                       0                              0   \n",
       "4                       0                              0   \n",
       "5                       0                              0   \n",
       "8                       0                              0   \n",
       "\n",
       "   job_category_Management  job_category_Non-STEM Professional  \\\n",
       "0                        0                                   0   \n",
       "3                        0                                   0   \n",
       "4                        0                                   0   \n",
       "5                        0                                   0   \n",
       "8                        0                                   0   \n",
       "\n",
       "   job_category_STEM  job_category_Sales  ...  class_of_admission_TPS  \\\n",
       "0                  1                   0  ...                       0   \n",
       "3                  1                   0  ...                       0   \n",
       "4                  1                   0  ...                       0   \n",
       "5                  1                   0  ...                       0   \n",
       "8                  1                   0  ...                       0   \n",
       "\n",
       "   class_of_admission_V-2  class_of_admission_VWB  class_of_admission_VWT  \\\n",
       "0                       0                       0                       0   \n",
       "3                       0                       0                       0   \n",
       "4                       0                       0                       0   \n",
       "5                       0                       0                       0   \n",
       "8                       0                       0                       0   \n",
       "\n",
       "   education_Associate's  education_Bachelor's  education_Doctorate  \\\n",
       "0                      0                     1                    0   \n",
       "3                      0                     1                    0   \n",
       "4                      0                     0                    0   \n",
       "5                      0                     0                    0   \n",
       "8                      0                     0                    0   \n",
       "\n",
       "   education_High School  education_Master's  education_None  \n",
       "0                      0                   0               0  \n",
       "3                      0                   0               0  \n",
       "4                      0                   1               0  \n",
       "5                      0                   1               0  \n",
       "8                      0                   1               0  \n",
       "\n",
       "[5 rows x 73 columns]"
      ]
     },
     "execution_count": 13,
     "metadata": {},
     "output_type": "execute_result"
    }
   ],
   "source": [
    "visa_df.head()"
   ]
  },
  {
   "cell_type": "markdown",
   "metadata": {},
   "source": [
    "### Train Test Split and Oversampling"
   ]
  },
  {
   "cell_type": "code",
   "execution_count": 14,
   "metadata": {},
   "outputs": [],
   "source": [
    "y = visa_df.iloc[:,0]\n",
    "X = visa_df.iloc[:,1:]"
   ]
  },
  {
   "cell_type": "code",
   "execution_count": 15,
   "metadata": {},
   "outputs": [
    {
     "name": "stdout",
     "output_type": "stream",
     "text": [
      "Train data:  [(0, 6554), (1, 73481)]\n",
      "Test data:  [(0, 2809), (1, 31493)]\n"
     ]
    }
   ],
   "source": [
    "# Split data for training and testing\n",
    "X_train, X_test, y_train, y_test = train_test_split(X, y, stratify=y, test_size=0.3, random_state=77)\n",
    "print('Train data: ',sorted(Counter(y_train).items()))\n",
    "print('Test data: ',sorted(Counter(y_test).items()))"
   ]
  },
  {
   "cell_type": "code",
   "execution_count": 16,
   "metadata": {},
   "outputs": [],
   "source": [
    "# Scale data using StandardScaler\n",
    "scalar = StandardScaler()\n",
    "X_train_scaled = scalar.fit_transform(X_train)\n",
    "X_test_scaled = scalar.transform(X_test)"
   ]
  },
  {
   "cell_type": "code",
   "execution_count": null,
   "metadata": {},
   "outputs": [],
   "source": [
    "# Apply undersampling due to imbalanced classes\n",
    "y_train2 = y_train.copy()\n",
    "rus = RandomUnderSampler(random_state=77)\n",
    "rus_resample = RandomUnderSampler(random_state=77)\n",
    "X_train, y_train = rus.fit_resample(X_train, y_train)\n",
    "X_train_scaled, y_train2 = rus_resample.fit_resample(X_train_scaled, y_train2)\n",
    "print('Train data: ',sorted(Counter(y_train).items()))\n",
    "print('Test data: ',sorted(Counter(y_test).items()))"
   ]
  },
  {
   "cell_type": "code",
   "execution_count": null,
   "metadata": {},
   "outputs": [],
   "source": [
    "# Apply simple overampling due to imbalanced classes\n",
    "y_train2 = y_train.copy()\n",
    "ros = RandomOverSampler(random_state=77)\n",
    "ros_resample = RandomOverSampler(random_state=77)\n",
    "X_train, y_train = ros.fit_resample(X_train, y_train)\n",
    "X_train_scaled, y_train2 = ros_resample.fit_resample(X_train_scaled, y_train2)\n",
    "print('Train data: ',sorted(Counter(y_train).items()))\n",
    "print('Test data: ',sorted(Counter(y_test).items()))"
   ]
  },
  {
   "cell_type": "code",
   "execution_count": null,
   "metadata": {},
   "outputs": [],
   "source": [
    "# Apply SMOTE due to imbalanced classes\n",
    "y_train2 = y_train.copy()\n",
    "smote = SMOTE(random_state=77)\n",
    "smote_resample = SMOTE(random_state=77)\n",
    "X_train, y_train = smote.fit_resample(X_train, y_train)\n",
    "X_train_scaled, y_train2 = smote_resample.fit_resample(X_train_scaled, y_train2)\n",
    "print('Train data: ',sorted(Counter(y_train).items()))\n",
    "print('Test data: ',sorted(Counter(y_test).items()))"
   ]
  },
  {
   "cell_type": "code",
   "execution_count": 17,
   "metadata": {},
   "outputs": [
    {
     "name": "stdout",
     "output_type": "stream",
     "text": [
      "Train data:  [(0, 73992), (1, 73481)]\n",
      "Test data:  [(0, 2809), (1, 31493)]\n"
     ]
    }
   ],
   "source": [
    "# Apply ADAYSN due to imbalanced classes\n",
    "y_train2 = y_train.copy()\n",
    "adaysn = ADASYN(random_state=77)\n",
    "adaysn_resample = ADASYN(random_state=77)\n",
    "X_train, y_train = adaysn.fit_resample(X_train, y_train)\n",
    "X_train_scaled, y_train2 = adaysn_resample.fit_resample(X_train_scaled, y_train2)\n",
    "print('Train data: ',sorted(Counter(y_train).items()))\n",
    "print('Test data: ',sorted(Counter(y_test).items()))"
   ]
  },
  {
   "cell_type": "code",
   "execution_count": 18,
   "metadata": {},
   "outputs": [],
   "source": [
    "# Use StratifiedKFold\n",
    "skf = StratifiedKFold(n_splits=5, random_state=77, shuffle=True)"
   ]
  },
  {
   "cell_type": "markdown",
   "metadata": {},
   "source": [
    "### Cross Validate Checks of all Models"
   ]
  },
  {
   "cell_type": "code",
   "execution_count": null,
   "metadata": {},
   "outputs": [],
   "source": [
    "logit_cv = cross_validate(LogisticRegression(random_state=77), X_train_scaled, y_train2, cv=skf, \n",
    "                              scoring=('accuracy', 'f1', 'precision', 'recall','roc_auc'), \n",
    "                              return_train_score=True)\n",
    "logit_cv"
   ]
  },
  {
   "cell_type": "code",
   "execution_count": null,
   "metadata": {},
   "outputs": [],
   "source": [
    "knn_cv = cross_validate(KNeighborsClassifier(n_neighbors=3), X_train_scaled, y_train2, cv=skf,\n",
    "                            scoring=('accuracy','f1', 'precision', 'recall', 'roc_auc'),\n",
    "                            return_train_score=True)\n",
    "knn_cv"
   ]
  },
  {
   "cell_type": "code",
   "execution_count": null,
   "metadata": {},
   "outputs": [],
   "source": [
    "rf_cv = cross_validate(RandomForestClassifier(random_state=77), X_train, y_train, cv=skf, \n",
    "                              scoring=('accuracy', 'f1', 'precision', 'recall','roc_auc'), \n",
    "                              return_train_score=True)\n",
    "rf_cv"
   ]
  },
  {
   "cell_type": "code",
   "execution_count": null,
   "metadata": {},
   "outputs": [],
   "source": [
    "bernoulliNB_cv = cross_validate(BernoulliNB(alpha=1.0, binarize=0.0), X_train, y_train, cv=skf, \n",
    "                              scoring=('accuracy','f1', 'precision', 'recall','roc_auc'), return_train_score=True)\n",
    "bernoulliNB_cv"
   ]
  },
  {
   "cell_type": "code",
   "execution_count": null,
   "metadata": {},
   "outputs": [],
   "source": [
    "svc_linear_scores = cross_validate(SVC(kernel='linear', C=1, random_state=77), X_train_scaled, y_train2, cv=5, \n",
    "                              scoring=('accuracy','f1', 'precision', 'recall','roc_auc'), return_train_score=True)\n",
    "svc_linear_scores"
   ]
  },
  {
   "cell_type": "code",
   "execution_count": null,
   "metadata": {},
   "outputs": [],
   "source": [
    "svc_rbf_scores = cross_validate(SVC(kernel='rbf', C=1, random_state=77), X_train_scaled, y_train2, cv=skf, \n",
    "                              scoring=('accuracy','f1', 'precision', 'recall','roc_auc'), return_train_score=True)\n",
    "svc_rbf_scores"
   ]
  },
  {
   "cell_type": "markdown",
   "metadata": {},
   "source": [
    "### GridSearchCV - KNN"
   ]
  },
  {
   "cell_type": "code",
   "execution_count": null,
   "metadata": {},
   "outputs": [],
   "source": [
    "# Choose the type of classifier. \n",
    "knn_clf = KNeighborsClassifier()\n",
    "\n",
    "# Choose some parameter combinations to try\n",
    "parameters = {'n_neighbors': [3, 5, 7], \n",
    "              'weights': ['uniform', 'distance']\n",
    "             }\n",
    "# Type of scoring used to compare parameter combinations\n",
    "scorer = make_scorer(roc_auc_score, precision_score, recall_score)\n",
    "\n",
    "# Run the grid search\n",
    "grid_obj = GridSearchCV(knn_clf, parameters, scoring=(scorer), cv=skf)\n",
    "grid_obj = grid_obj.fit(X_train_scaled, y_train2)\n",
    "\n",
    "# Set the knn_clf to the best combination of parameters\n",
    "knn_clf = grid_obj.best_estimator_\n",
    "\n",
    "# Fit the best algorithm to the data. \n",
    "knn_clf.fit(X_train_scaled, y_train2)"
   ]
  },
  {
   "cell_type": "code",
   "execution_count": null,
   "metadata": {},
   "outputs": [],
   "source": [
    "knn_predictions = knn_clf.predict(X_test_scaled)\n",
    "print('Accuracy using GridsearchCV(KNN): ', accuracy_score(y_test, knn_predictions))\n",
    "print('Precision using GridsearchCV(KNN): ', precision_score(y_test, knn_predictions))\n",
    "print('Recall using GridsearchCV(KNN): ', recall_score(y_test, knn_predictions))\n",
    "print('F1 using GridsearchCV(KNN): ', f1_score(y_test, knn_predictions))\n",
    "print('ROC AUC using GridsearchCV(KNN): ', roc_auc_score(y_test, knn_clf.predict_proba(X_test_scaled)[:,1]))"
   ]
  },
  {
   "cell_type": "markdown",
   "metadata": {},
   "source": [
    "### GridSearchCV - Random Forest"
   ]
  },
  {
   "cell_type": "code",
   "execution_count": null,
   "metadata": {},
   "outputs": [],
   "source": [
    "# Choose the type of classifier. \n",
    "rf_clf = RandomForestClassifier(random_state=77)\n",
    "\n",
    "# Choose some parameter combinations to try\n",
    "parameters = {'n_estimators': [80, 100, 120], \n",
    "              'max_features': ['log2', 'sqrt','auto'], \n",
    "              'criterion': ['entropy', 'gini'],\n",
    "              'max_depth': [2, 5, 8], \n",
    "              'min_samples_split': [2, 3, 5],\n",
    "              'min_samples_leaf': [1, 5, 8]\n",
    "             }\n",
    "# Type of scoring used to compare parameter combinations\n",
    "scorer = make_scorer(roc_auc_score, precision_score, recall_score)\n",
    "\n",
    "# Run the grid search\n",
    "grid_obj = GridSearchCV(rf_clf, parameters, scoring=(scorer), cv=skf)\n",
    "grid_obj = grid_obj.fit(X_train, y_train)\n",
    "\n",
    "# Set the rf_clf to the best combination of parameters\n",
    "rf_clf = grid_obj.best_estimator_\n",
    "\n",
    "# Fit the best algorithm to the data. \n",
    "rf_clf.fit(X_train, y_train)"
   ]
  },
  {
   "cell_type": "code",
   "execution_count": null,
   "metadata": {},
   "outputs": [],
   "source": [
    "rf_predictions = rf_clf.predict(X_test)\n",
    "print('Accuracy using GridsearchCV(Random_Forest): ', accuracy_score(y_test, rf_predictions))\n",
    "print('Precision using GridsearchCV(Random_Forest): ', precision_score(y_test, rf_predictions))\n",
    "print('Recall using GridsearchCV(Random_Forest): ', recall_score(y_test, rf_predictions))\n",
    "print('F1 using GridsearchCV(Random_Forest): ', f1_score(y_test, rf_predictions))\n",
    "print('ROC AUC using GridsearchCV(Random_Forest): ', roc_auc_score(y_test, rf_clf.predict_proba(X_test)[:,1]))"
   ]
  },
  {
   "cell_type": "markdown",
   "metadata": {},
   "source": [
    "### GridSearchCV - Logistic Regression"
   ]
  },
  {
   "cell_type": "code",
   "execution_count": null,
   "metadata": {},
   "outputs": [],
   "source": [
    "logreg = LogisticRegression(random_state=77)\n",
    "\n",
    "parameters = {'C': [0.001, 0.01, 0.1, 1, 10, 100, 1000], \n",
    "              'penalty':['l1','l2']}\n",
    "\n",
    "scorer = make_scorer(roc_auc_score, precision_score, recall_score)\n",
    "\n",
    "grid_obj = GridSearchCV(logreg, parameters, scoring=scorer, cv=skf)\n",
    "grid_obj = grid_obj.fit(X_train_scaled,y_train2)\n",
    "\n",
    "logreg = grid_obj.best_estimator_\n",
    "\n",
    "logreg.fit(X_train_scaled, y_train2)"
   ]
  },
  {
   "cell_type": "code",
   "execution_count": null,
   "metadata": {},
   "outputs": [],
   "source": [
    "logit_predictions = logreg.predict(X_test_scaled)\n",
    "print('Accuracy using GridsearchCV(Logistic Regression): ', accuracy_score(y_test, logit_predictions))\n",
    "print('Precision using GridsearchCV(Logistic Regression): ', precision_score(y_test, logit_predictions))\n",
    "print('Recall using GridsearchCV(Logistic Regression): ', recall_score(y_test, logit_predictions))\n",
    "print('F1 using GridsearchCV(Logistic Regression): ', f1_score(y_test, logit_predictions))\n",
    "print('ROC AUC using GridsearchCV(Logistic Regression): ', roc_auc_score(y_test, logreg.predict_proba(X_test_scaled)[:,1]))"
   ]
  },
  {
   "cell_type": "markdown",
   "metadata": {},
   "source": [
    "### KNN - Best Hyperparameters"
   ]
  },
  {
   "cell_type": "code",
   "execution_count": null,
   "metadata": {},
   "outputs": [],
   "source": [
    "#knn = KNeighborsClassifier(algorithm='auto', leaf_size=30, metric='minkowski', # Undersampling - upper and lower dev\n",
    "#                     metric_params=None, n_jobs=None, n_neighbors=7, p=2,\n",
    "#                     weights='uniform')\n",
    "\n",
    "#knn = KNeighborsClassifier(algorithm='auto', leaf_size=30, metric='minkowski', # Undersampling - wage in range value\n",
    "#                     metric_params=None, n_jobs=None, n_neighbors=7, p=2,\n",
    "#                     weights='uniform')\n",
    "\n",
    "#knn = KNeighborsClassifier(algorithm='auto', leaf_size=30, metric='minkowski', # Oversampling - wage in range value\n",
    "#                     metric_params=None, n_jobs=None, n_neighbors=7, p=2,\n",
    "#                     weights='distance')\n",
    "\n",
    "knn = KNeighborsClassifier(algorithm='auto', leaf_size=30, metric='minkowski', # SMOTE - Category Wage Ratio\n",
    "                     metric_params=None, n_jobs=None, n_neighbors=7, p=2,\n",
    "                     weights='distance')\n",
    "knn.fit(X_train_scaled,y_train2)"
   ]
  },
  {
   "cell_type": "code",
   "execution_count": null,
   "metadata": {},
   "outputs": [],
   "source": [
    "knn_accuracy = accuracy_score(y_test,knn.predict(X_test_scaled))\n",
    "knn_ll = log_loss(y_test,knn.predict(X_test_scaled))\n",
    "knn_precision = precision_score(y_test,knn.predict(X_test_scaled))\n",
    "knn_f1 = f1_score(y_test,knn.predict(X_test_scaled))\n",
    "knn_recall = recall_score(y_test,knn.predict(X_test_scaled))\n",
    "knn_roc_auc = roc_auc_score(y_test,knn.predict_proba(X_test_scaled)[:,1])\n",
    "print('<KNN Scores>')\n",
    "print('Accuracy: {}\\nLog Loss: {}\\nPrecision: {}\\nF1: {}\\nRecall :{}\\nROC AUC: {}'\n",
    "      .format(knn_accuracy, knn_ll, knn_precision, knn_f1, knn_recall, knn_roc_auc))\n",
    "\n",
    "fpr, tpr, thresholds = roc_curve(y_test, knn.predict_proba(X_test_scaled)[:,1])\n",
    "plt.plot(fpr, tpr,lw=2,c='red')\n",
    "plt.plot([0,1],[0,1],c='blue',ls='--')\n",
    "plt.xlim([-0.05,1.05])\n",
    "plt.ylim([-0.05,1.05])\n",
    "\n",
    "\n",
    "plt.xlabel('False positive rate')\n",
    "plt.ylabel('True positive rate')\n",
    "plt.title('ROC curve - KNN');"
   ]
  },
  {
   "cell_type": "code",
   "execution_count": null,
   "metadata": {},
   "outputs": [],
   "source": [
    "knn_confusion = confusion_matrix(y_test, knn.predict(X_test_scaled))\n",
    "plt.figure(dpi=100)\n",
    "sns.heatmap(knn_confusion, cmap=plt.cm.Reds, annot=True, square=True,\n",
    "           xticklabels = ['Not Certified', 'Certified'],\n",
    "           yticklabels = ['Not Certified', 'Certified'])\n",
    "\n",
    "plt.xlabel('Predicted')\n",
    "plt.ylabel('Actual')\n",
    "plt.title('KNN Confusion Matrix');"
   ]
  },
  {
   "cell_type": "markdown",
   "metadata": {},
   "source": [
    "### Logistic Regression - Best Hyperparameters"
   ]
  },
  {
   "cell_type": "code",
   "execution_count": null,
   "metadata": {},
   "outputs": [],
   "source": [
    "#logit = LogisticRegression(C=1, class_weight=None, dual=False, fit_intercept=True,# Undersampling - upper and lower dev\n",
    "#                   intercept_scaling=1, l1_ratio=None, max_iter=100,\n",
    "#                   multi_class='warn', n_jobs=None, penalty='l1',\n",
    "#                   random_state=77, solver='warn', tol=0.0001, verbose=0,\n",
    "#                   warm_start=False)\n",
    "\n",
    "#logit = LogisticRegression(C=1, class_weight=None, dual=False, fit_intercept=True, # Undersampling - wage in range value\n",
    "#                   intercept_scaling=1, l1_ratio=None, max_iter=100,\n",
    "#                   multi_class='warn', n_jobs=None, penalty='l1',\n",
    "#                   random_state=77, solver='warn', tol=0.0001, verbose=0,\n",
    "#                   warm_start=False)\n",
    "\n",
    "#logit = LogisticRegression(C=100, class_weight=None, dual=False, fit_intercept=True, # Oversampling - wage in range value\n",
    "#                   intercept_scaling=1, l1_ratio=None, max_iter=100,\n",
    "#                   multi_class='warn', n_jobs=None, penalty='l1',\n",
    "#                   random_state=77, solver='warn', tol=0.0001, verbose=0,\n",
    "#                   warm_start=False)\n",
    "\n",
    "#logit = LogisticRegression(C=1000, class_weight=None, dual=False, fit_intercept=True, # SMOTE - Category Wage Ratio\n",
    "#                   intercept_scaling=1, l1_ratio=None, max_iter=100,\n",
    "#                   multi_class='warn', n_jobs=None, penalty='l1',\n",
    "#                   random_state=77, solver='warn', tol=0.0001, verbose=0,\n",
    "#                   warm_start=False)\n",
    "\n",
    "logit = LogisticRegression(C=0.1, class_weight=None, dual=False, fit_intercept=True, # ADASYN - Category Wage Ratio\n",
    "                   intercept_scaling=1, l1_ratio=None, max_iter=100,\n",
    "                   multi_class='warn', n_jobs=None, penalty='l1',\n",
    "                   random_state=77, solver='warn', tol=0.0001, verbose=0,\n",
    "                   warm_start=False)\n",
    "\n",
    "logit.fit(X_train_scaled,y_train2)"
   ]
  },
  {
   "cell_type": "code",
   "execution_count": null,
   "metadata": {
    "scrolled": false
   },
   "outputs": [],
   "source": [
    "logit_accuracy = accuracy_score(y_test,logit.predict(X_test_scaled))\n",
    "logit_ll = log_loss(y_test,logit.predict(X_test_scaled))\n",
    "logit_precision = precision_score(y_test,logit.predict(X_test_scaled))\n",
    "logit_f1 = f1_score(y_test,logit.predict(X_test_scaled))\n",
    "logit_recall = recall_score(y_test,logit.predict(X_test_scaled))\n",
    "logit_roc_auc = roc_auc_score(y_test,logit.predict_proba(X_test_scaled)[:,1])\n",
    "print('<Logistc Regression Scores>')\n",
    "print('Accuracy: {}\\nLog Loss: {}\\nPrecision: {}\\nF1: {}\\nRecall :{}\\nROC AUC: {}'\n",
    "      .format(logit_accuracy, logit_ll, logit_precision, logit_f1, logit_recall, logit_roc_auc))\n",
    "\n",
    "fpr, tpr, thresholds = roc_curve(y_test, logit.predict_proba(X_test_scaled)[:,1])\n",
    "plt.plot(fpr, tpr,lw=2,c='red')\n",
    "plt.plot([0,1],[0,1],c='blue',ls='--')\n",
    "plt.xlim([-0.05,1.05])\n",
    "plt.ylim([-0.05,1.05])\n",
    "\n",
    "\n",
    "plt.xlabel('False positive rate')\n",
    "plt.ylabel('True positive rate')\n",
    "plt.title('ROC curve - Logistic Regression');"
   ]
  },
  {
   "cell_type": "code",
   "execution_count": null,
   "metadata": {},
   "outputs": [],
   "source": [
    "logit_confusion = confusion_matrix(y_test, logit.predict(X_test_scaled))\n",
    "plt.figure(dpi=100)\n",
    "sns.heatmap(logit_confusion, cmap=plt.cm.Greens, annot=True, square=True,\n",
    "           xticklabels = ['Not Certified', 'Certified'],\n",
    "           yticklabels = ['Not Certified', 'Certified'])\n",
    "\n",
    "plt.xlabel('Predicted')\n",
    "plt.ylabel('Actual')\n",
    "plt.title('Logistic Regression Confusion Matrix');"
   ]
  },
  {
   "cell_type": "markdown",
   "metadata": {},
   "source": [
    "### Random Forest - Best Hyperparameters"
   ]
  },
  {
   "cell_type": "code",
   "execution_count": 19,
   "metadata": {},
   "outputs": [],
   "source": [
    "#rf = RandomForestClassifier(bootstrap=True, class_weight=None, criterion='gini', # Undersampling - upper and lower dev\n",
    "#                       max_depth=8, max_features='sqrt', max_leaf_nodes=None,\n",
    "#                       min_impurity_decrease=0.0, min_impurity_split=None,\n",
    "#                       min_samples_leaf=1, min_samples_split=3,\n",
    "#                       min_weight_fraction_leaf=0.0, n_estimators=120,\n",
    "#                       n_jobs=None, oob_score=False, random_state=77, verbose=0,\n",
    "#                       warm_start=False)\n",
    "\n",
    "#rf = RandomForestClassifier(bootstrap=True, class_weight=None, criterion='gini', # Undersampling - wage in range value\n",
    "#                       max_depth=8, max_features='sqrt', max_leaf_nodes=None,\n",
    "#                       min_impurity_decrease=0.0, min_impurity_split=None,\n",
    "#                       min_samples_leaf=1, min_samples_split=5,\n",
    "#                       min_weight_fraction_leaf=0.0, n_estimators=100,\n",
    "#                       n_jobs=None, oob_score=False, random_state=77, verbose=0,\n",
    "#                       warm_start=False)\n",
    "\n",
    "#rf = RandomForestClassifier(bootstrap=True, class_weight=None, criterion='gini', # Oversampling - wage in range value\n",
    "#                       max_depth=8, max_features='sqrt', max_leaf_nodes=None,\n",
    "#                       min_impurity_decrease=0.0, min_impurity_split=None,\n",
    "#                       min_samples_leaf=1, min_samples_split=2,\n",
    "#                       min_weight_fraction_leaf=0.0, n_estimators=80,\n",
    "#                       n_jobs=None, oob_score=False, random_state=77, verbose=0,\n",
    "#                       warm_start=False)\n",
    "\n",
    "#rf = RandomForestClassifier(bootstrap=True, class_weight=None, criterion='gini', # SMOTE - Category Wage Ratio\n",
    "#                       max_depth=8, max_features='sqrt', max_leaf_nodes=None,\n",
    "#                       min_impurity_decrease=0.0, min_impurity_split=None,\n",
    "#                       min_samples_leaf=1, min_samples_split=2,\n",
    "#                       min_weight_fraction_leaf=0.0, n_estimators=120,\n",
    "#                       n_jobs=None, oob_score=False, random_state=77, verbose=0,\n",
    "#                       warm_start=False)\n",
    "\n",
    "#rf = RandomForestClassifier(bootstrap=True, class_weight=None, criterion='gini', # ADASYN - - upper and lower dev\n",
    "#                       max_depth=8, max_features='sqrt', max_leaf_nodes=None,\n",
    "#                       min_impurity_decrease=0.0, min_impurity_split=None,\n",
    "#                       min_samples_leaf=1, min_samples_split=3,\n",
    "#                       min_weight_fraction_leaf=0.0, n_estimators=120,\n",
    "#                       n_jobs=None, oob_score=False, random_state=77, verbose=0,\n",
    "#                       warm_start=False)\n",
    "\n",
    "#rf = RandomForestClassifier(bootstrap=True, class_weight=None, criterion='gini', # ADASYN - Category Wage Ratio\n",
    "#                       max_depth=8, max_features='sqrt', max_leaf_nodes=None,\n",
    "#                       min_impurity_decrease=0.0, min_impurity_split=None,\n",
    "#                       min_samples_leaf=5, min_samples_split=2,\n",
    "#                       min_weight_fraction_leaf=0.0, n_estimators=100,\n",
    "#                       n_jobs=None, oob_score=False, random_state=77, verbose=0,\n",
    "#                       warm_start=False)\n",
    "\n",
    "rf = RandomForestClassifier(bootstrap=True, class_weight=None, criterion='gini', # ADASYN - Category Wage Ratio2\n",
    "                       max_depth=8, max_features='sqrt', max_leaf_nodes=None,\n",
    "                       min_impurity_decrease=0.0, min_impurity_split=None,\n",
    "                       min_samples_leaf=1, min_samples_split=3,\n",
    "                       min_weight_fraction_leaf=0.0, n_estimators=120,\n",
    "                       n_jobs=None, oob_score=False, random_state=77, verbose=0,\n",
    "                       warm_start=False)\n",
    "\n",
    "rf.fit(X_train,y_train);"
   ]
  },
  {
   "cell_type": "code",
   "execution_count": 20,
   "metadata": {},
   "outputs": [
    {
     "name": "stdout",
     "output_type": "stream",
     "text": [
      "<Random Forest Scores>\n",
      "Accuracy: 0.882339222202787\n",
      "Log Loss: 4.063906568522184\n",
      "Precision: 0.9356456065750642\n",
      "F1: 0.935942608640447\n",
      "Recall :0.936239799320484\n",
      "ROC AUC: 0.7145365342902773\n"
     ]
    },
    {
     "data": {
      "image/png": "[encoded data removed]",
      "text/plain": [
       "<Figure size 432x288 with 1 Axes>"
      ]
     },
     "metadata": {
      "needs_background": "light"
     },
     "output_type": "display_data"
    }
   ],
   "source": [
    "rf_accuracy = accuracy_score(y_test,rf.predict(X_test))\n",
    "rf_ll = log_loss(y_test,rf.predict(X_test))\n",
    "rf_precision = precision_score(y_test,rf.predict(X_test))\n",
    "rf_f1 = f1_score(y_test,rf.predict(X_test))\n",
    "rf_recall = recall_score(y_test,rf.predict(X_test))\n",
    "rf_roc_auc = roc_auc_score(y_test,rf.predict_proba(X_test)[:,1])\n",
    "print('<Random Forest Scores>')\n",
    "print('Accuracy: {}\\nLog Loss: {}\\nPrecision: {}\\nF1: {}\\nRecall :{}\\nROC AUC: {}'\n",
    "      .format(rf_accuracy, rf_ll, rf_precision, rf_f1, rf_recall, rf_roc_auc))\n",
    "\n",
    "fpr, tpr, thresholds = roc_curve(y_test, rf.predict_proba(X_test)[:,1])\n",
    "plt.plot(fpr, tpr,lw=2,c='red')\n",
    "plt.plot([0,1],[0,1],c='blue',ls='--')\n",
    "plt.xlim([-0.05,1.05])\n",
    "plt.ylim([-0.05,1.05])\n",
    "plt.xlabel('False positive rate')\n",
    "plt.ylabel('True positive rate')\n",
    "plt.title('ROC curve - Random Forest');"
   ]
  },
  {
   "cell_type": "code",
   "execution_count": 21,
   "metadata": {
    "scrolled": true
   },
   "outputs": [
    {
     "name": "stdout",
     "output_type": "stream",
     "text": [
      "<Random Forest Scores>\n",
      "Precision-Recall AUC:  0.9596779957988816\n"
     ]
    },
    {
     "data": {
      "image/png": "[encoded data removed]",
      "text/plain": [
       "<Figure size 432x288 with 1 Axes>"
      ]
     },
     "metadata": {
      "needs_background": "light"
     },
     "output_type": "display_data"
    }
   ],
   "source": [
    "precision, recall, thresholds = precision_recall_curve(y_test, rf.predict_proba(X_test)[:,1])\n",
    "precision_recall_auc_score = auc(recall, precision)\n",
    "#fpr, tpr, thresholds = roc_curve(y_test, rf.predict_proba(X_test)[:,1])\n",
    "plt.plot(recall, precision,lw=2,c='orange')\n",
    "#plt.plot([0,1],[0,1],c='blue',ls='--')\n",
    "plt.plot([0,1], [0.5,0.5],c='green',ls='--')\n",
    "plt.xlim([-0.05,1.05])\n",
    "plt.ylim([-0.05,1.05])\n",
    "plt.xlabel('Recall')\n",
    "plt.ylabel('Precision')\n",
    "plt.title('Precision-Recall curve - Random Forest');\n",
    "\n",
    "print('<Random Forest Scores>')\n",
    "print('Precision-Recall AUC: ',precision_recall_auc_score)"
   ]
  },
  {
   "cell_type": "code",
   "execution_count": 22,
   "metadata": {},
   "outputs": [],
   "source": [
    "def interactive_confusion_matrix(model, threshold=0.5):\n",
    "    # Predict class 1 if probability of being in class 1 is greater than threshold\n",
    "    y_predict = (model.predict_proba(X_test)[:, 1] >= threshold)\n",
    "    model_confusion = confusion_matrix(y_test, y_predict)\n",
    "    plt.figure(dpi=100)\n",
    "    sns.heatmap(model_confusion, cmap=plt.cm.Blues, annot=True, square=True, fmt='d',\n",
    "           xticklabels=['Not Certified', 'Certified'],\n",
    "           yticklabels=['Not Certified', 'Certified'])\n",
    "    plt.title('Random Forest Confusion Matrix');\n",
    "    plt.xlabel('Predicted')\n",
    "    plt.ylabel('Actual')"
   ]
  },
  {
   "cell_type": "code",
   "execution_count": 23,
   "metadata": {},
   "outputs": [
    {
     "data": {
      "application/vnd.jupyter.widget-view+json": {
       "model_id": "95d1e2df5a5f44c59c7166fc904836e3",
       "version_major": 2,
       "version_minor": 0
      },
      "text/plain": [
       "interactive(children=(FloatSlider(value=0.5, description='threshold', max=1.0, step=0.02), Output()), _dom_cla…"
      ]
     },
     "metadata": {},
     "output_type": "display_data"
    }
   ],
   "source": [
    "# Interactive confusion matrix with threshold sldier! \n",
    "interactive(lambda threshold: interactive_confusion_matrix(rf, threshold), threshold=(0.0,1.0,0.02))"
   ]
  },
  {
   "cell_type": "code",
   "execution_count": 24,
   "metadata": {},
   "outputs": [
    {
     "data": {
      "image/png": "[encoded data removed]",
      "text/plain": [
       "<Figure size 480x320 with 1 Axes>"
      ]
     },
     "metadata": {
      "needs_background": "light"
     },
     "output_type": "display_data"
    }
   ],
   "source": [
    "precision_curve, recall_curve, threshold_curve = precision_recall_curve(y_test, rf.predict_proba(X_test)[:,1] )\n",
    "\n",
    "plt.figure(dpi=80)\n",
    "plt.plot(threshold_curve, precision_curve[1:],label='precision')\n",
    "plt.plot(threshold_curve, recall_curve[1:], label='recall')\n",
    "plt.legend(loc='lower left')\n",
    "plt.xlabel('Threshold (above this probability, label as Certified)');\n",
    "plt.title('Precision and Recall Curves - Random Forest');"
   ]
  },
  {
   "cell_type": "code",
   "execution_count": 25,
   "metadata": {},
   "outputs": [],
   "source": [
    "pd.set_option('display.float_format', lambda x: '%.3f' % x)"
   ]
  },
  {
   "cell_type": "code",
   "execution_count": 26,
   "metadata": {},
   "outputs": [],
   "source": [
    "feature_importances = pd.DataFrame(rf.feature_importances_, index = X.columns, \n",
    "                                   columns=['importance']).sort_values('importance', ascending=False)"
   ]
  },
  {
   "cell_type": "code",
   "execution_count": 27,
   "metadata": {
    "scrolled": false
   },
   "outputs": [
    {
     "data": {
      "image/png": "[encoded data removed]",
      "text/plain": [
       "<Figure size 576x432 with 1 Axes>"
      ]
     },
     "metadata": {
      "needs_background": "light"
     },
     "output_type": "display_data"
    }
   ],
   "source": [
    "# Plot coefficients of significant features\n",
    "plt.figure(figsize=(8,6))\n",
    "plt.style.use('seaborn-darkgrid')\n",
    "ax = sns.barplot(x='importance', y='index', data=feature_importances.reset_index().head(10), color='navy')\n",
    "plt.yticks(np.arange(10),('EDU - Bachelor\\'s', 'EDU - Master\\'s', 'Job Type - STEM', 'Visa Type - H-1B', 'Literacy Rate',\n",
    "                   'Job Level - IV', 'Salary', 'Job Level - I', 'Job Level - III', 'EDU - None'), size='14')\n",
    "plt.xticks(size='14')\n",
    "plt.ylabel('')\n",
    "plt.xlabel('');\n",
    "plt.title('Feature Importances', size='20');\n",
    "for i, v in enumerate(feature_importances['importance'].head(10)):\n",
    "    plt.text(v-0.012, i+0.2, str(round(v,3)), color='white', fontweight='bold', size='14')"
   ]
  },
  {
   "cell_type": "code",
   "execution_count": null,
   "metadata": {},
   "outputs": [],
   "source": [
    "#rf_confusion = confusion_matrix(y_test, rf.predict(X_test))\n",
    "#plt.figure(dpi=100)\n",
    "#sns.heatmap(rf_confusion, cmap=plt.cm.Blues, annot=True, square=True,\n",
    "#           xticklabels = ['Not Certified', 'Certified'],\n",
    "#           yticklabels = ['Not Certified', 'Certified'])\n",
    "#\n",
    "#plt.xlabel('Predicted')\n",
    "#plt.ylabel('Actual')\n",
    "#plt.title('Random Forest Confusion Matrix');"
   ]
  },
  {
   "cell_type": "code",
   "execution_count": null,
   "metadata": {},
   "outputs": [],
   "source": []
  }
 ],
 "metadata": {
  "kernelspec": {
   "display_name": "Python [conda env:metis]",
   "language": "python",
   "name": "conda-env-metis-py"
  },
  "language_info": {
   "codemirror_mode": {
    "name": "ipython",
    "version": 3
   },
   "file_extension": ".py",
   "mimetype": "text/x-python",
   "name": "python",
   "nbconvert_exporter": "python",
   "pygments_lexer": "ipython3",
   "version": "3.6.8"
  }
 },
 "nbformat": 4,
 "nbformat_minor": 2
}
